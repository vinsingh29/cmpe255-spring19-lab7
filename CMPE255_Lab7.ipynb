{
  "nbformat": 4,
  "nbformat_minor": 0,
  "metadata": {
    "colab": {
      "name": "CMPE255-Lab7.ipynb",
      "version": "0.3.2",
      "provenance": [],
      "collapsed_sections": []
    },
    "kernelspec": {
      "name": "python3",
      "display_name": "Python 3"
    }
  },
  "cells": [
    {
      "metadata": {
        "id": "8zmsEdfc2-O0",
        "colab_type": "text"
      },
      "cell_type": "markdown",
      "source": [
        "# **Lab 7 **"
      ]
    },
    {
      "metadata": {
        "id": "cH6H4sJ_wjFE",
        "colab_type": "code",
        "colab": {
          "base_uri": "https://localhost:8080/",
          "height": 34
        },
        "outputId": "e0b1a04a-958d-4fbc-b3df-bf6fd041268c"
      },
      "cell_type": "code",
      "source": [
        "from google.colab import drive\n",
        "drive.mount('/content/gdrive')"
      ],
      "execution_count": 1,
      "outputs": [
        {
          "output_type": "stream",
          "text": [
            "Drive already mounted at /content/gdrive; to attempt to forcibly remount, call drive.mount(\"/content/gdrive\", force_remount=True).\n"
          ],
          "name": "stdout"
        }
      ]
    },
    {
      "metadata": {
        "id": "tE8mBrHa3P35",
        "colab_type": "text"
      },
      "cell_type": "markdown",
      "source": [
        "**Import Libraries**"
      ]
    },
    {
      "metadata": {
        "id": "i18MdXzxwsdN",
        "colab_type": "code",
        "colab": {
          "base_uri": "https://localhost:8080/",
          "height": 204
        },
        "outputId": "6f1ba663-54ce-424f-9347-2de3f942961e"
      },
      "cell_type": "code",
      "source": [
        "import numpy as np\n",
        "import matplotlib.pyplot as plt\n",
        "import pandas as pd  \n",
        "import ssl\n",
        "ssl._create_default_https_context = ssl._create_unverified_context\n",
        "\n",
        "# download data set: https://drive.google.com/file/d/13nw-uRXPY8XIZQxKRNZ3yYlho-CYm_Qt/view\n",
        "# info: https://archive.ics.uci.edu/ml/datasets/banknote+authentication\n",
        "\n",
        "# load data\n",
        "bankdata=pd.read_csv('gdrive/My Drive/Lab7-data/bill_authentication.csv')\n",
        "\n",
        "# see the data\n",
        "bankdata.shape  \n",
        "\n",
        "# see head\n",
        "bankdata.head()  \n",
        "\n",
        "# data processing\n",
        "X = bankdata.drop('Class', axis=1)  \n",
        "y = bankdata['Class']  \n",
        "\n",
        "from sklearn.model_selection import train_test_split  \n",
        "X_train, X_test, y_train, y_test = train_test_split(X, y, test_size = 0.20)  \n",
        "\n",
        "# train the SVM\n",
        "from sklearn.svm import SVC  \n",
        "svclassifier = SVC(kernel='linear')  \n",
        "svclassifier.fit(X_train, y_train)  \n",
        "\n",
        "# predictions\n",
        "y_pred = svclassifier.predict(X_test)  \n",
        "\n",
        "# Evaluate model\n",
        "from sklearn.metrics import classification_report, confusion_matrix  \n",
        "print(confusion_matrix(y_test,y_pred))  \n",
        "print(classification_report(y_test,y_pred))  \n",
        "\n"
      ],
      "execution_count": 2,
      "outputs": [
        {
          "output_type": "stream",
          "text": [
            "[[151   4]\n",
            " [  1 119]]\n",
            "              precision    recall  f1-score   support\n",
            "\n",
            "           0       0.99      0.97      0.98       155\n",
            "           1       0.97      0.99      0.98       120\n",
            "\n",
            "   micro avg       0.98      0.98      0.98       275\n",
            "   macro avg       0.98      0.98      0.98       275\n",
            "weighted avg       0.98      0.98      0.98       275\n",
            "\n"
          ],
          "name": "stdout"
        }
      ]
    },
    {
      "metadata": {
        "id": "CfRXKB6kxRTt",
        "colab_type": "code",
        "colab": {}
      },
      "cell_type": "code",
      "source": [
        "# Iris dataset  https://archive.ics.uci.edu/ml/datasets/iris4\n",
        "def import_iris():\n",
        "\turl = \"https://archive.ics.uci.edu/ml/machine-learning-databases/iris/iris.data\"\n",
        "\n",
        "\t# Assign colum names to the dataset\n",
        "\tcolnames = ['sepal-length', 'sepal-width', 'petal-length', 'petal-width', 'Class']\n",
        "\n",
        "\t# Read dataset to pandas dataframe\n",
        "\tirisdata = pd.read_csv(url, names=colnames) \n",
        "\n",
        "\t# process\n",
        "\tX = irisdata.drop('Class', axis=1)  \n",
        "\ty = irisdata['Class']  \n",
        "\n",
        "\t# train\n",
        "\tfrom sklearn.model_selection import train_test_split  \n",
        "\tX_train, X_test, y_train, y_test = train_test_split(X, y, test_size = 0.20)  \n",
        "\n",
        "\t# TODO: Evaluates perfomance of Polynomial Kernel, Gaussian Kernel, and Sigmoid Kernel.\n",
        "\treturn X_train, X_test, y_train, y_test\n",
        "\n",
        "\n"
      ],
      "execution_count": 0,
      "outputs": []
    },
    {
      "metadata": {
        "id": "afIICG_UyZNO",
        "colab_type": "text"
      },
      "cell_type": "markdown",
      "source": [
        "# **Polynomial Kernel **"
      ]
    },
    {
      "metadata": {
        "id": "CCohbrFQxUtN",
        "colab_type": "code",
        "colab": {}
      },
      "cell_type": "code",
      "source": [
        "def polynomial_kernel(X_train, X_test, y_train, y_test):\n",
        "\t# TODO\n",
        "\t# Trains, predicts and evaluates the model\n",
        "\tfrom sklearn.svm import SVC  \n",
        "\tpolynomial_kernel_svclassifier = SVC(kernel='poly',degree = 8,random_state = 42)  \n",
        "\tpolynomial_kernel_svclassifier.fit(X_train, y_train)\n",
        "\ty_pred = polynomial_kernel_svclassifier.predict(X_test)\n",
        "\tprint(\"Polynomial_kernel_Result\")\n",
        "\tprint(confusion_matrix(y_test,y_pred))  \n",
        "\tprint(classification_report(y_test,y_pred))\n",
        "\treturn polynomial_kernel_svclassifier \n",
        "\n",
        "\n"
      ],
      "execution_count": 0,
      "outputs": []
    },
    {
      "metadata": {
        "id": "VXw39rJKykgv",
        "colab_type": "text"
      },
      "cell_type": "markdown",
      "source": [
        "# **Gaussian Kernel**"
      ]
    },
    {
      "metadata": {
        "id": "XE-26ReSxWyq",
        "colab_type": "code",
        "colab": {}
      },
      "cell_type": "code",
      "source": [
        "def gaussian_kernel(X_train, X_test, y_train, y_test):\n",
        "    # TODO\n",
        "    # Trains, predicts and evaluates the model\n",
        "\tfrom sklearn.svm import SVC  \n",
        "\tgaussian_kernel_svclassifier = SVC(kernel='rbf',random_state = 42)  \n",
        "\tgaussian_kernel_svclassifier.fit(X_train, y_train)\n",
        "\ty_pred = gaussian_kernel_svclassifier.predict(X_test)\n",
        "\tprint(\"Gaussian_kernel_Result\")\n",
        "\tprint(confusion_matrix(y_test,y_pred))  \n",
        "\tprint(classification_report(y_test,y_pred))\n",
        "\treturn gaussian_kernel_svclassifier\n",
        "\n"
      ],
      "execution_count": 0,
      "outputs": []
    },
    {
      "metadata": {
        "id": "fy5nV3Gnys5h",
        "colab_type": "text"
      },
      "cell_type": "markdown",
      "source": [
        "# **Sigmoid Kernel**"
      ]
    },
    {
      "metadata": {
        "id": "33ENUzNbxYpz",
        "colab_type": "code",
        "colab": {}
      },
      "cell_type": "code",
      "source": [
        "def sigmoid_kernel(X_train, X_test, y_train, y_test):\n",
        "    # TODO\n",
        "    # Trains, predicts and evaluates the model\n",
        "\tfrom sklearn.svm import SVC  \n",
        "\tsigmoid_kernel_svclassifier = SVC(kernel='sigmoid',gamma = 'scale',random_state = 42)  \n",
        "\tsigmoid_kernel_svclassifier.fit(X_train, y_train)\n",
        "\ty_pred = sigmoid_kernel_svclassifier.predict(X_test)\n",
        "\tprint(\"Sigmoid_kernel_result\")\n",
        "\tprint(confusion_matrix(y_test,y_pred))  \n",
        "\tprint(classification_report(y_test,y_pred))\n",
        "\treturn sigmoid_kernel_svclassifier\n",
        "\n"
      ],
      "execution_count": 0,
      "outputs": []
    },
    {
      "metadata": {
        "id": "zi8weAmlxadj",
        "colab_type": "code",
        "colab": {}
      },
      "cell_type": "code",
      "source": [
        "def make_mesh(x, y, h=.02):\n",
        "\tx_min, x_max = x.min() - 1, x.max() + 1\n",
        "\ty_min, y_max = y.min() - 1, y.max() + 1\n",
        "\txx, yy = np.meshgrid(np.arange(x_min, x_max, h),\n",
        "\t\t\t\t\t\t\tnp.arange(y_min, y_max, h))\n",
        "\treturn xx, yy\n",
        "\n",
        "def plot_contours(ax, clf, xx, yy, **params):\n",
        "\tZ = clf.predict(np.c_[xx.ravel(), yy.ravel()])\n",
        "\tZ = Z.reshape(xx.shape)\n",
        "\tout = ax.contourf(xx, yy, Z, **params)\n",
        "\treturn out\n",
        "\n"
      ],
      "execution_count": 0,
      "outputs": []
    },
    {
      "metadata": {
        "id": "diTo_NJyyR2r",
        "colab_type": "text"
      },
      "cell_type": "markdown",
      "source": [
        "# **Plotting and Testing the Kernel**"
      ]
    },
    {
      "metadata": {
        "id": "FrbZRKJtxclK",
        "colab_type": "code",
        "colab": {
          "base_uri": "https://localhost:8080/",
          "height": 1182
        },
        "outputId": "69ba57a4-72ff-491b-8934-04e6147347d0"
      },
      "cell_type": "code",
      "source": [
        "def test():\n",
        "\tX_train, X_test, y_train, y_test = import_iris()\n",
        "\tpoly_model = polynomial_kernel(X_train, X_test, y_train, y_test)\n",
        "\tgauss_model = gaussian_kernel(X_train, X_test, y_train, y_test)\n",
        "\tsigmoid_model = sigmoid_kernel(X_train, X_test, y_train, y_test)\n",
        "\n",
        "\tfrom sklearn import datasets\n",
        "\tiris = datasets.load_iris()\n",
        "\tX = iris.data[:, :2]\n",
        "\ty = iris.target\n",
        "\n",
        "\tX0, X1 = X[:, 0], X[:, 1]\n",
        "\txx, yy = make_mesh(X0, X1)\n",
        "\n",
        "\tmodels = [poly_model.fit(X,y),gauss_model.fit(X,y),sigmoid_model.fit(X,y)]\n",
        "\ttitles = ['Polynomial kernel','Gaussian kernel','Sigmoid kernel']\n",
        "\n",
        "\tfig, sub = plt.subplots(3, 1)\n",
        "\tplt.subplots_adjust(wspace=0.5, hspace=0.8)\n",
        "\n",
        "\tfor clf,title,ax in zip(models,titles,sub.flatten()):\n",
        "\t\tplot_contours(ax, clf, xx, yy,cmap=plt.cm.coolwarm, alpha=0.8)\n",
        "\t\tax.scatter(X0, X1, c=y, cmap=plt.cm.coolwarm, s=20, edgecolors='k')\n",
        "\t\tax.set_xlim(xx.min(), xx.max())\n",
        "\t\tax.set_ylim(yy.min(), yy.max())\n",
        "\t\tax.set_xlabel('Sepal length')\n",
        "\t\tax.set_ylabel('Sepal width')\n",
        "\t\tax.set_xticks(())\n",
        "\t\tax.set_yticks(())\n",
        "\t\tax.set_title(title)\n",
        "\n",
        "\tplt.show()\n",
        "\n",
        "test()"
      ],
      "execution_count": 8,
      "outputs": [
        {
          "output_type": "stream",
          "text": [
            "/usr/local/lib/python3.6/dist-packages/sklearn/svm/base.py:196: FutureWarning: The default value of gamma will change from 'auto' to 'scale' in version 0.22 to account better for unscaled features. Set gamma explicitly to 'auto' or 'scale' to avoid this warning.\n",
            "  \"avoid this warning.\", FutureWarning)\n",
            "/usr/local/lib/python3.6/dist-packages/sklearn/svm/base.py:196: FutureWarning: The default value of gamma will change from 'auto' to 'scale' in version 0.22 to account better for unscaled features. Set gamma explicitly to 'auto' or 'scale' to avoid this warning.\n",
            "  \"avoid this warning.\", FutureWarning)\n",
            "/usr/local/lib/python3.6/dist-packages/sklearn/metrics/classification.py:1143: UndefinedMetricWarning: Precision and F-score are ill-defined and being set to 0.0 in labels with no predicted samples.\n",
            "  'precision', 'predicted', average, warn_for)\n",
            "/usr/local/lib/python3.6/dist-packages/sklearn/svm/base.py:196: FutureWarning: The default value of gamma will change from 'auto' to 'scale' in version 0.22 to account better for unscaled features. Set gamma explicitly to 'auto' or 'scale' to avoid this warning.\n",
            "  \"avoid this warning.\", FutureWarning)\n"
          ],
          "name": "stderr"
        },
        {
          "output_type": "stream",
          "text": [
            "Polynomial_kernel_Result\n",
            "[[11  0  0]\n",
            " [ 0 11  0]\n",
            " [ 0  1  7]]\n",
            "                 precision    recall  f1-score   support\n",
            "\n",
            "    Iris-setosa       1.00      1.00      1.00        11\n",
            "Iris-versicolor       0.92      1.00      0.96        11\n",
            " Iris-virginica       1.00      0.88      0.93         8\n",
            "\n",
            "      micro avg       0.97      0.97      0.97        30\n",
            "      macro avg       0.97      0.96      0.96        30\n",
            "   weighted avg       0.97      0.97      0.97        30\n",
            "\n",
            "Gaussian_kernel_Result\n",
            "[[11  0  0]\n",
            " [ 0 11  0]\n",
            " [ 0  1  7]]\n",
            "                 precision    recall  f1-score   support\n",
            "\n",
            "    Iris-setosa       1.00      1.00      1.00        11\n",
            "Iris-versicolor       0.92      1.00      0.96        11\n",
            " Iris-virginica       1.00      0.88      0.93         8\n",
            "\n",
            "      micro avg       0.97      0.97      0.97        30\n",
            "      macro avg       0.97      0.96      0.96        30\n",
            "   weighted avg       0.97      0.97      0.97        30\n",
            "\n",
            "Sigmoid_kernel_result\n",
            "[[ 0  0 11]\n",
            " [ 0  0 11]\n",
            " [ 0  0  8]]\n",
            "                 precision    recall  f1-score   support\n",
            "\n",
            "    Iris-setosa       0.00      0.00      0.00        11\n",
            "Iris-versicolor       0.00      0.00      0.00        11\n",
            " Iris-virginica       0.27      1.00      0.42         8\n",
            "\n",
            "      micro avg       0.27      0.27      0.27        30\n",
            "      macro avg       0.09      0.33      0.14        30\n",
            "   weighted avg       0.07      0.27      0.11        30\n",
            "\n"
          ],
          "name": "stdout"
        },
        {
          "output_type": "stream",
          "text": [
            "/usr/local/lib/python3.6/dist-packages/sklearn/svm/base.py:196: FutureWarning: The default value of gamma will change from 'auto' to 'scale' in version 0.22 to account better for unscaled features. Set gamma explicitly to 'auto' or 'scale' to avoid this warning.\n",
            "  \"avoid this warning.\", FutureWarning)\n"
          ],
          "name": "stderr"
        },
        {
          "output_type": "display_data",
          "data": {
            "image/png": "[encoded data removed]",
            "text/plain": [
              "<Figure size 432x288 with 3 Axes>"
            ]
          },
          "metadata": {
            "tags": []
          }
        }
      ]
    }
  ]
}